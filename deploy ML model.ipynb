{
 "cells": [
  {
   "cell_type": "code",
   "execution_count": 3,
   "id": "ea47bdd0",
   "metadata": {},
   "outputs": [
    {
     "name": "stdout",
     "output_type": "stream",
     "text": [
      "Defaulting to user installation because normal site-packages is not writeable\n",
      "Requirement already satisfied: azureml-sdk in c:\\users\\91808\\appdata\\roaming\\python\\python311\\site-packages (1.0.23)\n",
      "Requirement already satisfied: azureml-core==1.0.23.* in c:\\users\\91808\\appdata\\roaming\\python\\python311\\site-packages (from azureml-sdk) (1.0.23)\n",
      "Requirement already satisfied: azureml-train==1.0.23.* in c:\\users\\91808\\appdata\\roaming\\python\\python311\\site-packages (from azureml-sdk) (1.0.23)\n",
      "Requirement already satisfied: azureml-pipeline==1.0.23.* in c:\\users\\91808\\appdata\\roaming\\python\\python311\\site-packages (from azureml-sdk) (1.0.23)\n",
      "Requirement already satisfied: pytz in c:\\programdata\\anaconda3\\lib\\site-packages (from azureml-core==1.0.23.*->azureml-sdk) (2023.3.post1)\n",
      "Requirement already satisfied: backports.tempfile in c:\\programdata\\anaconda3\\lib\\site-packages (from azureml-core==1.0.23.*->azureml-sdk) (1.0)\n",
      "Requirement already satisfied: pathspec in c:\\programdata\\anaconda3\\lib\\site-packages (from azureml-core==1.0.23.*->azureml-sdk) (0.10.3)\n",
      "Requirement already satisfied: requests>=2.19.1 in c:\\programdata\\anaconda3\\lib\\site-packages (from azureml-core==1.0.23.*->azureml-sdk) (2.31.0)\n",
      "Requirement already satisfied: azure-mgmt-resource>=1.2.1 in c:\\users\\91808\\appdata\\roaming\\python\\python311\\site-packages (from azureml-core==1.0.23.*->azureml-sdk) (23.1.1)\n",
      "Requirement already satisfied: azure-mgmt-containerregistry>=2.0.0 in c:\\users\\91808\\appdata\\roaming\\python\\python311\\site-packages (from azureml-core==1.0.23.*->azureml-sdk) (10.3.0)\n",
      "Requirement already satisfied: azure-mgmt-storage>=1.5.0 in c:\\users\\91808\\appdata\\roaming\\python\\python311\\site-packages (from azureml-core==1.0.23.*->azureml-sdk) (21.2.1)\n",
      "Requirement already satisfied: azure-mgmt-keyvault>=0.40.0 in c:\\users\\91808\\appdata\\roaming\\python\\python311\\site-packages (from azureml-core==1.0.23.*->azureml-sdk) (10.3.1)\n",
      "Requirement already satisfied: azure-mgmt-authorization>=0.40.0 in c:\\users\\91808\\appdata\\roaming\\python\\python311\\site-packages (from azureml-core==1.0.23.*->azureml-sdk) (4.0.0)\n",
      "Requirement already satisfied: azure-graphrbac>=0.40.0 in c:\\users\\91808\\appdata\\roaming\\python\\python311\\site-packages (from azureml-core==1.0.23.*->azureml-sdk) (0.61.1)\n",
      "Requirement already satisfied: azure-common>=1.1.12 in c:\\users\\91808\\appdata\\roaming\\python\\python311\\site-packages (from azureml-core==1.0.23.*->azureml-sdk) (1.1.28)\n",
      "Requirement already satisfied: msrest>=0.5.1 in c:\\users\\91808\\appdata\\roaming\\python\\python311\\site-packages (from azureml-core==1.0.23.*->azureml-sdk) (0.7.1)\n",
      "Requirement already satisfied: msrestazure>=0.4.33 in c:\\users\\91808\\appdata\\roaming\\python\\python311\\site-packages (from azureml-core==1.0.23.*->azureml-sdk) (0.6.4.post1)\n",
      "Requirement already satisfied: urllib3>=1.23 in c:\\programdata\\anaconda3\\lib\\site-packages (from azureml-core==1.0.23.*->azureml-sdk) (1.26.16)\n",
      "Requirement already satisfied: six>=1.11.0 in c:\\programdata\\anaconda3\\lib\\site-packages (from azureml-core==1.0.23.*->azureml-sdk) (1.16.0)\n",
      "Requirement already satisfied: cryptography!=1.9,!=2.0.*,!=2.1.*,!=2.2.* in c:\\programdata\\anaconda3\\lib\\site-packages (from azureml-core==1.0.23.*->azureml-sdk) (41.0.3)\n",
      "Requirement already satisfied: python-dateutil>=2.7.3 in c:\\programdata\\anaconda3\\lib\\site-packages (from azureml-core==1.0.23.*->azureml-sdk) (2.8.2)\n",
      "Requirement already satisfied: ndg-httpsclient in c:\\users\\91808\\appdata\\roaming\\python\\python311\\site-packages (from azureml-core==1.0.23.*->azureml-sdk) (0.5.1)\n",
      "Requirement already satisfied: SecretStorage in c:\\users\\91808\\appdata\\roaming\\python\\python311\\site-packages (from azureml-core==1.0.23.*->azureml-sdk) (3.3.3)\n",
      "Requirement already satisfied: ruamel.yaml<=0.15.89,>=0.15.35 in c:\\users\\91808\\appdata\\roaming\\python\\python311\\site-packages (from azureml-core==1.0.23.*->azureml-sdk) (0.15.89)\n",
      "Requirement already satisfied: jsonpickle in c:\\users\\91808\\appdata\\roaming\\python\\python311\\site-packages (from azureml-core==1.0.23.*->azureml-sdk) (3.2.2)\n",
      "Requirement already satisfied: contextlib2 in c:\\users\\91808\\appdata\\roaming\\python\\python311\\site-packages (from azureml-core==1.0.23.*->azureml-sdk) (21.6.0)\n",
      "Requirement already satisfied: docker in c:\\users\\91808\\appdata\\roaming\\python\\python311\\site-packages (from azureml-core==1.0.23.*->azureml-sdk) (7.1.0)\n",
      "Requirement already satisfied: PyJWT in c:\\programdata\\anaconda3\\lib\\site-packages (from azureml-core==1.0.23.*->azureml-sdk) (2.4.0)\n",
      "Requirement already satisfied: adal>=1.2.0 in c:\\users\\91808\\appdata\\roaming\\python\\python311\\site-packages (from azureml-core==1.0.23.*->azureml-sdk) (1.2.7)\n",
      "Requirement already satisfied: paramiko>=2.0.8 in c:\\programdata\\anaconda3\\lib\\site-packages (from azureml-core==1.0.23.*->azureml-sdk) (2.8.1)\n",
      "Requirement already satisfied: pyopenssl in c:\\programdata\\anaconda3\\lib\\site-packages (from azureml-core==1.0.23.*->azureml-sdk) (23.2.0)\n",
      "Requirement already satisfied: jmespath in c:\\programdata\\anaconda3\\lib\\site-packages (from azureml-core==1.0.23.*->azureml-sdk) (0.10.0)\n",
      "Requirement already satisfied: azureml-pipeline-core==1.0.23.* in c:\\users\\91808\\appdata\\roaming\\python\\python311\\site-packages (from azureml-pipeline==1.0.23.*->azureml-sdk) (1.0.23)\n",
      "Requirement already satisfied: azureml-pipeline-steps==1.0.23.* in c:\\users\\91808\\appdata\\roaming\\python\\python311\\site-packages (from azureml-pipeline==1.0.23.*->azureml-sdk) (1.0.23)\n",
      "Requirement already satisfied: azureml-train-core==1.0.23.* in c:\\users\\91808\\appdata\\roaming\\python\\python311\\site-packages (from azureml-train==1.0.23.*->azureml-sdk) (1.0.23)\n",
      "Requirement already satisfied: certifi in c:\\programdata\\anaconda3\\lib\\site-packages (from azureml-pipeline-steps==1.0.23.*->azureml-pipeline==1.0.23.*->azureml-sdk) (2023.7.22)\n",
      "Requirement already satisfied: azureml-train-restclients-hyperdrive==1.0.23.* in c:\\users\\91808\\appdata\\roaming\\python\\python311\\site-packages (from azureml-train-core==1.0.23.*->azureml-train==1.0.23.*->azureml-sdk) (1.0.23)\n",
      "Requirement already satisfied: azureml-telemetry==1.0.23.* in c:\\users\\91808\\appdata\\roaming\\python\\python311\\site-packages (from azureml-train-core==1.0.23.*->azureml-train==1.0.23.*->azureml-sdk) (1.0.23)\n",
      "Requirement already satisfied: applicationinsights in c:\\users\\91808\\appdata\\roaming\\python\\python311\\site-packages (from azureml-telemetry==1.0.23.*->azureml-train-core==1.0.23.*->azureml-train==1.0.23.*->azureml-sdk) (0.11.10)\n",
      "Requirement already satisfied: isodate<1.0.0,>=0.6.1 in c:\\users\\91808\\appdata\\roaming\\python\\python311\\site-packages (from azure-mgmt-authorization>=0.40.0->azureml-core==1.0.23.*->azureml-sdk) (0.6.1)\n",
      "Requirement already satisfied: azure-mgmt-core<2.0.0,>=1.3.2 in c:\\users\\91808\\appdata\\roaming\\python\\python311\\site-packages (from azure-mgmt-authorization>=0.40.0->azureml-core==1.0.23.*->azureml-sdk) (1.4.0)\n",
      "Requirement already satisfied: typing-extensions>=4.6.0 in c:\\users\\91808\\appdata\\roaming\\python\\python311\\site-packages (from azure-mgmt-keyvault>=0.40.0->azureml-core==1.0.23.*->azureml-sdk) (4.12.1)\n",
      "Requirement already satisfied: cffi>=1.12 in c:\\programdata\\anaconda3\\lib\\site-packages (from cryptography!=1.9,!=2.0.*,!=2.1.*,!=2.2.*->azureml-core==1.0.23.*->azureml-sdk) (1.15.1)\n",
      "Requirement already satisfied: azure-core>=1.24.0 in c:\\users\\91808\\appdata\\roaming\\python\\python311\\site-packages (from msrest>=0.5.1->azureml-core==1.0.23.*->azureml-sdk) (1.30.2)\n",
      "Requirement already satisfied: requests-oauthlib>=0.5.0 in c:\\users\\91808\\appdata\\roaming\\python\\python311\\site-packages (from msrest>=0.5.1->azureml-core==1.0.23.*->azureml-sdk) (1.3.1)\n",
      "Requirement already satisfied: bcrypt>=3.1.3 in c:\\programdata\\anaconda3\\lib\\site-packages (from paramiko>=2.0.8->azureml-core==1.0.23.*->azureml-sdk) (3.2.0)\n",
      "Requirement already satisfied: pynacl>=1.0.1 in c:\\programdata\\anaconda3\\lib\\site-packages (from paramiko>=2.0.8->azureml-core==1.0.23.*->azureml-sdk) (1.5.0)\n",
      "Requirement already satisfied: charset-normalizer<4,>=2 in c:\\programdata\\anaconda3\\lib\\site-packages (from requests>=2.19.1->azureml-core==1.0.23.*->azureml-sdk) (2.0.4)\n",
      "Requirement already satisfied: idna<4,>=2.5 in c:\\programdata\\anaconda3\\lib\\site-packages (from requests>=2.19.1->azureml-core==1.0.23.*->azureml-sdk) (3.4)\n",
      "Requirement already satisfied: backports.weakref in c:\\programdata\\anaconda3\\lib\\site-packages (from backports.tempfile->azureml-core==1.0.23.*->azureml-sdk) (1.0.post1)\n",
      "Requirement already satisfied: pywin32>=304 in c:\\programdata\\anaconda3\\lib\\site-packages (from docker->azureml-core==1.0.23.*->azureml-sdk) (305.1)\n",
      "Requirement already satisfied: pyasn1>=0.1.1 in c:\\programdata\\anaconda3\\lib\\site-packages (from ndg-httpsclient->azureml-core==1.0.23.*->azureml-sdk) (0.4.8)\n",
      "Requirement already satisfied: jeepney>=0.6 in c:\\users\\91808\\appdata\\roaming\\python\\python311\\site-packages (from SecretStorage->azureml-core==1.0.23.*->azureml-sdk) (0.8.0)\n",
      "Requirement already satisfied: pycparser in c:\\programdata\\anaconda3\\lib\\site-packages (from cffi>=1.12->cryptography!=1.9,!=2.0.*,!=2.1.*,!=2.2.*->azureml-core==1.0.23.*->azureml-sdk) (2.21)\n",
      "Requirement already satisfied: oauthlib>=3.0.0 in c:\\users\\91808\\appdata\\roaming\\python\\python311\\site-packages (from requests-oauthlib>=0.5.0->msrest>=0.5.1->azureml-core==1.0.23.*->azureml-sdk) (3.2.2)\n"
     ]
    }
   ],
   "source": [
    "!pip install azureml-sdk"
   ]
  },
  {
   "cell_type": "code",
   "execution_count": 4,
   "id": "44994da5",
   "metadata": {},
   "outputs": [
    {
     "ename": "ImportError",
     "evalue": "cannot import name 'Iterable' from 'collections' (C:\\ProgramData\\anaconda3\\Lib\\collections\\__init__.py)",
     "output_type": "error",
     "traceback": [
      "\u001b[1;31m---------------------------------------------------------------------------\u001b[0m",
      "\u001b[1;31mImportError\u001b[0m                               Traceback (most recent call last)",
      "Cell \u001b[1;32mIn[4], line 5\u001b[0m\n\u001b[0;32m      2\u001b[0m \u001b[38;5;28;01mimport\u001b[39;00m \u001b[38;5;21;01mjson\u001b[39;00m\n\u001b[0;32m      3\u001b[0m \u001b[38;5;28;01mimport\u001b[39;00m \u001b[38;5;21;01mrequests\u001b[39;00m\n\u001b[1;32m----> 5\u001b[0m \u001b[38;5;28;01mfrom\u001b[39;00m \u001b[38;5;21;01mazureml\u001b[39;00m\u001b[38;5;21;01m.\u001b[39;00m\u001b[38;5;21;01mcore\u001b[39;00m \u001b[38;5;28;01mimport\u001b[39;00m Workspace\n\u001b[0;32m      6\u001b[0m \u001b[38;5;28;01mfrom\u001b[39;00m \u001b[38;5;21;01mazureml\u001b[39;00m\u001b[38;5;21;01m.\u001b[39;00m\u001b[38;5;21;01mcore\u001b[39;00m\u001b[38;5;21;01m.\u001b[39;00m\u001b[38;5;21;01mmodel\u001b[39;00m \u001b[38;5;28;01mimport\u001b[39;00m Model\n\u001b[0;32m      7\u001b[0m \u001b[38;5;28;01mfrom\u001b[39;00m \u001b[38;5;21;01mazureml\u001b[39;00m\u001b[38;5;21;01m.\u001b[39;00m\u001b[38;5;21;01mcore\u001b[39;00m\u001b[38;5;21;01m.\u001b[39;00m\u001b[38;5;21;01menvironment\u001b[39;00m \u001b[38;5;28;01mimport\u001b[39;00m Environment\n",
      "File \u001b[1;32m~\\AppData\\Roaming\\Python\\Python311\\site-packages\\azureml\\core\\__init__.py:10\u001b[0m\n\u001b[0;32m      1\u001b[0m \u001b[38;5;66;03m# ---------------------------------------------------------\u001b[39;00m\n\u001b[0;32m      2\u001b[0m \u001b[38;5;66;03m# Copyright (c) Microsoft Corporation. All rights reserved.\u001b[39;00m\n\u001b[0;32m      3\u001b[0m \u001b[38;5;66;03m# ---------------------------------------------------------\u001b[39;00m\n\u001b[0;32m      5\u001b[0m \u001b[38;5;124;03m\"\"\"Contains core packages, modules and classes for Azure Machine Learning.\u001b[39;00m\n\u001b[0;32m      6\u001b[0m \n\u001b[0;32m      7\u001b[0m \u001b[38;5;124;03mMain areas include managing compute targets, creating/managing workspaces and experiments, and submitting/accessing\u001b[39;00m\n\u001b[0;32m      8\u001b[0m \u001b[38;5;124;03mmodel runs and run output/logging.\u001b[39;00m\n\u001b[0;32m      9\u001b[0m \u001b[38;5;124;03m\"\"\"\u001b[39;00m\n\u001b[1;32m---> 10\u001b[0m \u001b[38;5;28;01mfrom\u001b[39;00m \u001b[38;5;21;01mazureml\u001b[39;00m\u001b[38;5;21;01m.\u001b[39;00m\u001b[38;5;21;01mcore\u001b[39;00m\u001b[38;5;21;01m.\u001b[39;00m\u001b[38;5;21;01mworkspace\u001b[39;00m \u001b[38;5;28;01mimport\u001b[39;00m Workspace\n\u001b[0;32m     11\u001b[0m \u001b[38;5;28;01mfrom\u001b[39;00m \u001b[38;5;21;01mazureml\u001b[39;00m\u001b[38;5;21;01m.\u001b[39;00m\u001b[38;5;21;01mcore\u001b[39;00m\u001b[38;5;21;01m.\u001b[39;00m\u001b[38;5;21;01mexperiment\u001b[39;00m \u001b[38;5;28;01mimport\u001b[39;00m Experiment\n\u001b[0;32m     12\u001b[0m \u001b[38;5;28;01mfrom\u001b[39;00m \u001b[38;5;21;01mazureml\u001b[39;00m\u001b[38;5;21;01m.\u001b[39;00m\u001b[38;5;21;01mcore\u001b[39;00m\u001b[38;5;21;01m.\u001b[39;00m\u001b[38;5;21;01mrunconfig\u001b[39;00m \u001b[38;5;28;01mimport\u001b[39;00m RunConfiguration\n",
      "File \u001b[1;32m~\\AppData\\Roaming\\Python\\Python311\\site-packages\\azureml\\core\\workspace.py:35\u001b[0m\n\u001b[0;32m     33\u001b[0m \u001b[38;5;28;01mfrom\u001b[39;00m \u001b[38;5;21;01mazureml\u001b[39;00m\u001b[38;5;21;01m.\u001b[39;00m\u001b[38;5;21;01mcore\u001b[39;00m\u001b[38;5;21;01m.\u001b[39;00m\u001b[38;5;21;01mmodel\u001b[39;00m \u001b[38;5;28;01mimport\u001b[39;00m Model\n\u001b[0;32m     34\u001b[0m \u001b[38;5;28;01mfrom\u001b[39;00m \u001b[38;5;21;01mazureml\u001b[39;00m\u001b[38;5;21;01m.\u001b[39;00m\u001b[38;5;21;01mcore\u001b[39;00m\u001b[38;5;21;01m.\u001b[39;00m\u001b[38;5;21;01mwebservice\u001b[39;00m \u001b[38;5;28;01mimport\u001b[39;00m Webservice\n\u001b[1;32m---> 35\u001b[0m \u001b[38;5;28;01mfrom\u001b[39;00m \u001b[38;5;21;01mazureml\u001b[39;00m\u001b[38;5;21;01m.\u001b[39;00m\u001b[38;5;21;01mdata\u001b[39;00m\u001b[38;5;21;01m.\u001b[39;00m\u001b[38;5;21;01mdatastore_client\u001b[39;00m \u001b[38;5;28;01mimport\u001b[39;00m _DatastoreClient\n\u001b[0;32m     37\u001b[0m _WorkspaceScopeInfo \u001b[38;5;241m=\u001b[39m collections\u001b[38;5;241m.\u001b[39mnamedtuple(\u001b[38;5;124m\"\u001b[39m\u001b[38;5;124mWorkspaceScopeInfo\u001b[39m\u001b[38;5;124m\"\u001b[39m,\n\u001b[0;32m     38\u001b[0m                                              \u001b[38;5;124m\"\u001b[39m\u001b[38;5;124msubscription_id resource_group workspace_name\u001b[39m\u001b[38;5;124m\"\u001b[39m)\n\u001b[0;32m     40\u001b[0m CONFIG_FILE_NAME \u001b[38;5;241m=\u001b[39m \u001b[38;5;124m'\u001b[39m\u001b[38;5;124mconfig.json\u001b[39m\u001b[38;5;124m'\u001b[39m\n",
      "File \u001b[1;32m~\\AppData\\Roaming\\Python\\Python311\\site-packages\\azureml\\data\\datastore_client.py:19\u001b[0m\n\u001b[0;32m     17\u001b[0m \u001b[38;5;28;01mfrom\u001b[39;00m \u001b[38;5;21;01mazureml\u001b[39;00m\u001b[38;5;21;01m.\u001b[39;00m\u001b[38;5;21;01m_restclient\u001b[39;00m\u001b[38;5;21;01m.\u001b[39;00m\u001b[38;5;21;01mmodels\u001b[39;00m\u001b[38;5;21;01m.\u001b[39;00m\u001b[38;5;21;01mazure_postgre_sql_dto\u001b[39;00m \u001b[38;5;28;01mimport\u001b[39;00m AzurePostgreSqlDto\n\u001b[0;32m     18\u001b[0m \u001b[38;5;28;01mfrom\u001b[39;00m \u001b[38;5;21;01mazureml\u001b[39;00m\u001b[38;5;21;01m.\u001b[39;00m\u001b[38;5;21;01m_restclient\u001b[39;00m\u001b[38;5;21;01m.\u001b[39;00m\u001b[38;5;21;01mmodels\u001b[39;00m\u001b[38;5;21;01m.\u001b[39;00m\u001b[38;5;21;01mclient_credentials_dto\u001b[39;00m \u001b[38;5;28;01mimport\u001b[39;00m ClientCredentialsDto\n\u001b[1;32m---> 19\u001b[0m \u001b[38;5;28;01mfrom\u001b[39;00m \u001b[38;5;21;01m.\u001b[39;00m\u001b[38;5;21;01mazure_storage_datastore\u001b[39;00m \u001b[38;5;28;01mimport\u001b[39;00m AzureBlobDatastore, AzureFileDatastore\n\u001b[0;32m     20\u001b[0m \u001b[38;5;28;01mfrom\u001b[39;00m \u001b[38;5;21;01m.\u001b[39;00m\u001b[38;5;21;01mazure_data_lake_datastore\u001b[39;00m \u001b[38;5;28;01mimport\u001b[39;00m AzureDataLakeDatastore, AzureDataLakeGen2Datastore\n\u001b[0;32m     21\u001b[0m \u001b[38;5;28;01mfrom\u001b[39;00m \u001b[38;5;21;01m.\u001b[39;00m\u001b[38;5;21;01mazure_sql_database_datastore\u001b[39;00m \u001b[38;5;28;01mimport\u001b[39;00m AzureSqlDatabaseDatastore\n",
      "File \u001b[1;32m~\\AppData\\Roaming\\Python\\Python311\\site-packages\\azureml\\data\\azure_storage_datastore.py:14\u001b[0m\n\u001b[0;32m     11\u001b[0m \u001b[38;5;28;01mfrom\u001b[39;00m \u001b[38;5;21;01mazureml\u001b[39;00m\u001b[38;5;21;01m.\u001b[39;00m\u001b[38;5;21;01m_vendor\u001b[39;00m\u001b[38;5;21;01m.\u001b[39;00m\u001b[38;5;21;01mazure_storage\u001b[39;00m\u001b[38;5;21;01m.\u001b[39;00m\u001b[38;5;21;01mblob\u001b[39;00m \u001b[38;5;28;01mimport\u001b[39;00m BlockBlobService\n\u001b[0;32m     12\u001b[0m \u001b[38;5;28;01mfrom\u001b[39;00m \u001b[38;5;21;01mazureml\u001b[39;00m\u001b[38;5;21;01m.\u001b[39;00m\u001b[38;5;21;01m_vendor\u001b[39;00m\u001b[38;5;21;01m.\u001b[39;00m\u001b[38;5;21;01mazure_storage\u001b[39;00m\u001b[38;5;21;01m.\u001b[39;00m\u001b[38;5;21;01mfile\u001b[39;00m \u001b[38;5;28;01mimport\u001b[39;00m FileService, models\n\u001b[1;32m---> 14\u001b[0m \u001b[38;5;28;01mfrom\u001b[39;00m \u001b[38;5;21;01mazureml\u001b[39;00m\u001b[38;5;21;01m.\u001b[39;00m\u001b[38;5;21;01m_base_sdk_common\u001b[39;00m\u001b[38;5;21;01m.\u001b[39;00m\u001b[38;5;21;01mutils\u001b[39;00m \u001b[38;5;28;01mimport\u001b[39;00m create_retry, common_path, to_unix_path, accumulate\n\u001b[0;32m     15\u001b[0m \u001b[38;5;28;01mfrom\u001b[39;00m \u001b[38;5;21;01mazureml\u001b[39;00m\u001b[38;5;21;01m.\u001b[39;00m\u001b[38;5;21;01m_history\u001b[39;00m\u001b[38;5;21;01m.\u001b[39;00m\u001b[38;5;21;01mutils\u001b[39;00m\u001b[38;5;21;01m.\u001b[39;00m\u001b[38;5;21;01masync_task\u001b[39;00m \u001b[38;5;28;01mimport\u001b[39;00m AsyncTask\n\u001b[0;32m     16\u001b[0m \u001b[38;5;28;01mfrom\u001b[39;00m \u001b[38;5;21;01mazureml\u001b[39;00m\u001b[38;5;21;01m.\u001b[39;00m\u001b[38;5;21;01m_history\u001b[39;00m\u001b[38;5;21;01m.\u001b[39;00m\u001b[38;5;21;01mutils\u001b[39;00m\u001b[38;5;21;01m.\u001b[39;00m\u001b[38;5;21;01mtask_queue\u001b[39;00m \u001b[38;5;28;01mimport\u001b[39;00m TaskQueue\n",
      "File \u001b[1;32m~\\AppData\\Roaming\\Python\\Python311\\site-packages\\azureml\\_base_sdk_common\\utils.py:10\u001b[0m\n\u001b[0;32m      8\u001b[0m \u001b[38;5;28;01mimport\u001b[39;00m \u001b[38;5;21;01mrequests\u001b[39;00m\n\u001b[0;32m      9\u001b[0m \u001b[38;5;28;01mfrom\u001b[39;00m \u001b[38;5;21;01mrequests\u001b[39;00m\u001b[38;5;21;01m.\u001b[39;00m\u001b[38;5;21;01madapters\u001b[39;00m \u001b[38;5;28;01mimport\u001b[39;00m HTTPAdapter\n\u001b[1;32m---> 10\u001b[0m \u001b[38;5;28;01mfrom\u001b[39;00m \u001b[38;5;21;01mcollections\u001b[39;00m \u001b[38;5;28;01mimport\u001b[39;00m Iterable\n\u001b[0;32m     12\u001b[0m \u001b[38;5;28;01mfrom\u001b[39;00m \u001b[38;5;21;01murllib3\u001b[39;00m \u001b[38;5;28;01mimport\u001b[39;00m Retry\n\u001b[0;32m     13\u001b[0m \u001b[38;5;28;01mfrom\u001b[39;00m \u001b[38;5;21;01mos\u001b[39;00m \u001b[38;5;28;01mimport\u001b[39;00m path\n",
      "\u001b[1;31mImportError\u001b[0m: cannot import name 'Iterable' from 'collections' (C:\\ProgramData\\anaconda3\\Lib\\collections\\__init__.py)"
     ]
    }
   ],
   "source": [
    "import os\n",
    "import json\n",
    "import requests\n",
    "\n",
    "from azureml.core import Workspace\n",
    "from azureml.core.model import Model\n",
    "from azureml.core.environment import Environment\n",
    "from azureml.core.conda_dependencies import CondaDependencies\n",
    "from azureml.core.model import InferenceConfig\n",
    "from azureml.core.webservice import AciWebservice, Webservice"
   ]
  },
  {
   "cell_type": "code",
   "execution_count": 5,
   "id": "79fb673a",
   "metadata": {},
   "outputs": [
    {
     "ename": "FileNotFoundError",
     "evalue": "[Errno 2] No such file or directory: 'config.json'",
     "output_type": "error",
     "traceback": [
      "\u001b[1;31m---------------------------------------------------------------------------\u001b[0m",
      "\u001b[1;31mFileNotFoundError\u001b[0m                         Traceback (most recent call last)",
      "Cell \u001b[1;32mIn[5], line 5\u001b[0m\n\u001b[0;32m      2\u001b[0m config_file_path \u001b[38;5;241m=\u001b[39m \u001b[38;5;124m\"\u001b[39m\u001b[38;5;124mconfig.json\u001b[39m\u001b[38;5;124m\"\u001b[39m\n\u001b[0;32m      4\u001b[0m \u001b[38;5;66;03m# Read JSON data into a dictionary\u001b[39;00m\n\u001b[1;32m----> 5\u001b[0m \u001b[38;5;28;01mwith\u001b[39;00m \u001b[38;5;28mopen\u001b[39m(config_file_path, \u001b[38;5;124m'\u001b[39m\u001b[38;5;124mr\u001b[39m\u001b[38;5;124m'\u001b[39m) \u001b[38;5;28;01mas\u001b[39;00m file:\n\u001b[0;32m      6\u001b[0m     data \u001b[38;5;241m=\u001b[39m json\u001b[38;5;241m.\u001b[39mload(file)\n\u001b[0;32m      8\u001b[0m subscription_id \u001b[38;5;241m=\u001b[39m data[\u001b[38;5;124m\"\u001b[39m\u001b[38;5;124md186f742-5fc5-40b2-9e4a-406448916f9f\u001b[39m\u001b[38;5;124m\"\u001b[39m]\n",
      "File \u001b[1;32mC:\\ProgramData\\anaconda3\\Lib\\site-packages\\IPython\\core\\interactiveshell.py:286\u001b[0m, in \u001b[0;36m_modified_open\u001b[1;34m(file, *args, **kwargs)\u001b[0m\n\u001b[0;32m    279\u001b[0m \u001b[38;5;28;01mif\u001b[39;00m file \u001b[38;5;129;01min\u001b[39;00m {\u001b[38;5;241m0\u001b[39m, \u001b[38;5;241m1\u001b[39m, \u001b[38;5;241m2\u001b[39m}:\n\u001b[0;32m    280\u001b[0m     \u001b[38;5;28;01mraise\u001b[39;00m \u001b[38;5;167;01mValueError\u001b[39;00m(\n\u001b[0;32m    281\u001b[0m         \u001b[38;5;124mf\u001b[39m\u001b[38;5;124m\"\u001b[39m\u001b[38;5;124mIPython won\u001b[39m\u001b[38;5;124m'\u001b[39m\u001b[38;5;124mt let you open fd=\u001b[39m\u001b[38;5;132;01m{\u001b[39;00mfile\u001b[38;5;132;01m}\u001b[39;00m\u001b[38;5;124m by default \u001b[39m\u001b[38;5;124m\"\u001b[39m\n\u001b[0;32m    282\u001b[0m         \u001b[38;5;124m\"\u001b[39m\u001b[38;5;124mas it is likely to crash IPython. If you know what you are doing, \u001b[39m\u001b[38;5;124m\"\u001b[39m\n\u001b[0;32m    283\u001b[0m         \u001b[38;5;124m\"\u001b[39m\u001b[38;5;124myou can use builtins\u001b[39m\u001b[38;5;124m'\u001b[39m\u001b[38;5;124m open.\u001b[39m\u001b[38;5;124m\"\u001b[39m\n\u001b[0;32m    284\u001b[0m     )\n\u001b[1;32m--> 286\u001b[0m \u001b[38;5;28;01mreturn\u001b[39;00m io_open(file, \u001b[38;5;241m*\u001b[39margs, \u001b[38;5;241m*\u001b[39m\u001b[38;5;241m*\u001b[39mkwargs)\n",
      "\u001b[1;31mFileNotFoundError\u001b[0m: [Errno 2] No such file or directory: 'config.json'"
     ]
    }
   ],
   "source": [
    "# laoding the configuration file - standard way - use .env file and load_dotenv from python-dotenv module\n",
    "config_file_path = \"config.json\"\n",
    "\n",
    "# Read JSON data into a dictionary\n",
    "with open(config_file_path, 'r') as file:\n",
    "    data = json.load(file)\n",
    "\n",
    "subscription_id = data[\"d186f742-5fc5-40b2-9e4a-406448916f9f\"]\n",
    "resource_group = data[\"resource_group\"]  \n",
    "workspace_name = data[\"workspace_name\"]\n",
    "region = data[\"region\"]"
   ]
  },
  {
   "cell_type": "code",
   "execution_count": null,
   "id": "fd389610",
   "metadata": {},
   "outputs": [],
   "source": []
  }
 ],
 "metadata": {
  "kernelspec": {
   "display_name": "Python 3 (ipykernel)",
   "language": "python",
   "name": "python3"
  },
  "language_info": {
   "codemirror_mode": {
    "name": "ipython",
    "version": 3
   },
   "file_extension": ".py",
   "mimetype": "text/x-python",
   "name": "python",
   "nbconvert_exporter": "python",
   "pygments_lexer": "ipython3",
   "version": "3.11.5"
  }
 },
 "nbformat": 4,
 "nbformat_minor": 5
}
